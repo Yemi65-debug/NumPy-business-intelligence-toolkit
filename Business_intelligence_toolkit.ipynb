{
  "nbformat": 4,
  "nbformat_minor": 0,
  "metadata": {
    "colab": {
      "provenance": []
    },
    "kernelspec": {
      "name": "python3",
      "display_name": "Python 3"
    },
    "language_info": {
      "name": "python"
    }
  },
  "cells": [
    {
      "cell_type": "code",
      "execution_count": 2,
      "metadata": {
        "colab": {
          "base_uri": "https://localhost:8080/"
        },
        "id": "BEA5UTzXGe1H",
        "outputId": "80d8fc16-6428-494f-9c6d-6598b55975ee"
      },
      "outputs": [
        {
          "output_type": "stream",
          "name": "stdout",
          "text": [
            "BUSINESS INTELLIGENCE TOOLKIT\n",
            "=================================\n",
            "Created by Yemi\n",
            "Date: 24-09-2025\n",
            "=================================\n",
            "Technology: Python + Numpy\n",
            "\n",
            "Quarterly Sales Analysis\n",
            "--------------------------\n",
            "Q1 Total Sales: $383,000\n",
            "Q1 Average Sales: $127,667\n",
            "\n",
            "Q2 Total Sales: $435,000\n",
            "Q2 Average Sales: $145,000\n",
            "\n",
            "Q3 Total Sales: $465,000\n",
            "Q3 Average Sales: $155,000\n",
            "\n",
            "Q4 Total Sales: $515,000\n",
            "Q4 Average Sales: $171,667\n",
            "\n",
            "Business Insights\n",
            "-----------------\n",
            "Best Performing Quarter: Q4\n",
            "Worst Performing Month: Jan\n",
            "Best Performing Month: Dec\n",
            "Total Annual Sales: $1,798,000\n",
            "Average Monthly Sales: $149,833\n"
          ]
        }
      ],
      "source": [
        "import numpy as np\n",
        "from datetime import datetime\n",
        "\n",
        "print(\"BUSINESS INTELLIGENCE TOOLKIT\")\n",
        "print(\"=================================\")\n",
        "print(f\"Created by Yemi\")\n",
        "print(f\"Date: {datetime.now().strftime('%d-%m-%Y')}\")\n",
        "print(\"=================================\")\n",
        "print(f\"Technology: Python + Numpy\")\n",
        "\n",
        "# 4 quarters with 3 months each\n",
        "quarterly_sales = np.array([\n",
        "[120000, 135000, 128000], # Q1: Jan, Feb, Mar\n",
        "[138000, 145000, 152000], # Q2: Apr, May, Jun\n",
        "[155000, 148000, 162000], # Q3: Jul, Aug, Sep\n",
        "[160000, 175000, 180000] # Q4: Oct, Nov, Dec\n",
        "])\n",
        "\n",
        "months = ['Jan', 'Feb', 'Mar', 'Apr', 'May', 'Jun',\n",
        "'Jul', 'Aug', 'Sep', 'Oct', 'Nov', 'Dec']\n",
        "\n",
        "# Business Insight\n",
        "print(\"\\nQuarterly Sales Analysis\")\n",
        "print(\"--------------------------\")\n",
        "\n",
        "for i, quarter in enumerate(['Q1', 'Q2', 'Q3', 'Q4']):\n",
        "  quarter_total = np.sum(quarterly_sales[i])\n",
        "  quarter_avg = np.mean(quarterly_sales[i])\n",
        "  print(f\"{quarter} Total Sales: ${quarter_total:,}\")\n",
        "  print(f\"{quarter} Average Sales: ${quarter_avg:,.0f}\")\n",
        "  print()\n",
        "\n",
        "# Trend Analysis\n",
        "print(\"Business Insights\")\n",
        "print(\"-----------------\")\n",
        "best_quarter = np.argmax(np.sum(quarterly_sales, axis=1)) + 1\n",
        "print(f\"Best Performing Quarter: Q{best_quarter}\")\n",
        "\n",
        "monthly_totals = quarterly_sales.flatten()\n",
        "worst_month_index = np.argmin(monthly_totals)\n",
        "worst_month = months[worst_month_index]\n",
        "print(f\"Worst Performing Month: {worst_month}\")\n",
        "\n",
        "best_month_index = np.argmax(monthly_totals)\n",
        "best_month = months[best_month_index]\n",
        "print(f\"Best Performing Month: {best_month}\")\n",
        "\n",
        "# Additional insights\n",
        "total_annual_sales = np.sum(quarterly_sales)\n",
        "print(f\"Total Annual Sales: ${total_annual_sales:,}\")\n",
        "print(f\"Average Monthly Sales: ${np.mean(monthly_totals):,.0f}\")"
      ]
    }
  ]
}